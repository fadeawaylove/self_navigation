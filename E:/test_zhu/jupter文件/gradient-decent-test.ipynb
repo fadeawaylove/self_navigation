{
 "cells": [
  {
   "cell_type": "code",
   "execution_count": 42,
   "metadata": {},
   "outputs": [],
   "source": [
    "import numpy as np\n",
    "import matplotlib.pyplot as plt\n",
    "from pylab import mpl\n",
    "\n",
    "plt.rcParams[\"font.sans-serif\"] = [\"Simhei\"]\n",
    "mpl.rcParams[\"axes.unicode_minus\"] = False\n",
    "# 真实数据\n",
    "x_data = [338., 333., 328., 207., 226., 25., 179., 60., 208., 606.]\n",
    "y_data = [640., 633., 619., 393., 428., 27., 193., 66., 226., 1591.]\n",
    "# 转为array\n",
    "x_d = np.asarray(x_data)\n",
    "y_d = np.asarray(y_data)"
   ]
  },
  {
   "cell_type": "code",
   "execution_count": 63,
   "metadata": {},
   "outputs": [
    {
     "name": "stdout",
     "output_type": "stream",
     "text": [
      "误差最小时，b=-188.36683874953226 w=2.6692640713379903\n"
     ]
    }
   ],
   "source": [
    "# 原始公式 y = wx + b\n",
    "w = -4\n",
    "b = -120\n",
    "b_history = [b]\n",
    "w_history = [w]\n",
    "lr_b = 0\n",
    "lr_w = 0\n",
    "for _ in range(100000):\n",
    "    w_grad, b_grad = 0.0, 0.0\n",
    "    # 求出w和b的偏导\n",
    "    for n in range(len(x_d)):\n",
    "        w_grad = w_grad - 2 * (y_d[n] - w * x_d[n] - b)* x_d[n]\n",
    "        b_grad = b_grad - 2*(y_d[n] - w*x_d[n] - b)\n",
    "    \n",
    "    # 新的rate\n",
    "    lr_b = lr_b + b_grad ** 2\n",
    "    lr_w = lr_w + w_grad ** 2\n",
    "    \n",
    "    # 更新参数w和b\n",
    "    b = b - 1 / np.sqrt(lr_b) * b_grad\n",
    "    w = w - 1 / np.sqrt(lr_w) * w_grad\n",
    "    b_history.append(b)   \n",
    "    w_history.append(w)\n",
    "print(\"误差最小时，b={} w={}\".format(b_history[-1], w_history[-1]))"
   ]
  },
  {
   "cell_type": "code",
   "execution_count": 64,
   "metadata": {},
   "outputs": [
    {
     "data": {
      "image/png": "[encoded data removed]",
      "text/plain": [
       "<Figure size 432x288 with 1 Axes>"
      ]
     },
     "metadata": {
      "needs_background": "light"
     },
     "output_type": "display_data"
    }
   ],
   "source": [
    "x= np.arange(-200, -100, 1)\n",
    "y = np.arange(-5, 5, 0.1)\n",
    "Z = np.zeros((len(x),len(y)))\n",
    "plt.contourf(x, y, Z, 50, alpha=0.5, cmap=plt.get_cmap('jet'))  # 填充等高线\n",
    "plt.plot([-188.4], [2.67], 'x', ms=12, mew=3, color=\"orange\")\n",
    "plt.plot(b_history, w_history, 'o-', ms=3, lw=1.5, color='black')\n",
    "plt.xlim(-200, -100)\n",
    "plt.ylim(-5, 5)\n",
    "plt.xlabel(r'$b$')\n",
    "plt.ylabel(r'$w$')\n",
    "plt.title(\"线性回归\")\n",
    "plt.show()"
   ]
  },
  {
   "cell_type": "code",
   "execution_count": null,
   "metadata": {},
   "outputs": [],
   "source": []
  },
  {
   "cell_type": "code",
   "execution_count": null,
   "metadata": {},
   "outputs": [],
   "source": []
  },
  {
   "cell_type": "code",
   "execution_count": null,
   "metadata": {},
   "outputs": [],
   "source": []
  }
 ],
 "metadata": {
  "kernelspec": {
   "display_name": "Python 3",
   "language": "python",
   "name": "python3"
  },
  "language_info": {
   "codemirror_mode": {
    "name": "ipython",
    "version": 3
   },
   "file_extension": ".py",
   "mimetype": "text/x-python",
   "name": "python",
   "nbconvert_exporter": "python",
   "pygments_lexer": "ipython3",
   "version": "3.7.4"
  }
 },
 "nbformat": 4,
 "nbformat_minor": 2
}
